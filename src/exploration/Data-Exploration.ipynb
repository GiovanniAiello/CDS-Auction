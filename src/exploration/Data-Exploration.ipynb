{
 "cells": [
  {
   "cell_type": "code",
   "execution_count": 2,
   "metadata": {},
   "outputs": [
    {
     "name": "stdout",
     "output_type": "stream",
     "text": [
      "/home/ga/Dropbox/00/CDS_Auction/src/exploration\n",
      "../../data/final_database/auctions_main_updated.csv\n",
      "2005     1\n",
      "2006     4\n",
      "2007     1\n",
      "2008    16\n",
      "2009    59\n",
      "2010    16\n",
      "2011    24\n",
      "2012    16\n",
      "2013    14\n",
      "2014     6\n",
      "2015     6\n",
      "2016    10\n",
      "2017    18\n",
      "2018     6\n",
      "2019    12\n",
      "2020    19\n",
      "2021     1\n",
      "2022     3\n",
      "2023     1\n",
      "Name: Year, dtype: int64\n",
      "Total auctions: 233\n"
     ]
    }
   ],
   "source": [
    "import pandas as pd\n",
    "import os\n",
    "print(os.getcwd())\n",
    "# Specify the file path to the dataset\n",
    "# Specify the file path to the dataset\n",
    "dataset_path = '../../data/final_database/auctions_main_updated.csv'\n",
    "print(dataset_path)\n",
    "# Read the dataset\n",
    "data = pd.read_csv(dataset_path)\n",
    "\n",
    "# Extract the year from the first four digits of the \"Identifier\" column\n",
    "data['Year'] = data['identifier'].str[:4]\n",
    "\n",
    "#or \n",
    "\n",
    "# Extract the year from the \"Date\" column\n",
    "# data['Year'] = pd.to_datetime(data['date']).dt.year\n",
    "# Count the number of auctions for each year\n",
    "auctions_per_year = data['Year'].value_counts().sort_index()\n",
    "# Print the results\n",
    "print(auctions_per_year)\n",
    "\n",
    "total_auctions =  auctions_per_year.sum()\n",
    "# Print the total sum\n",
    "print(\"Total auctions:\", total_auctions)"
   ]
  },
  {
   "cell_type": "code",
   "execution_count": 3,
   "metadata": {},
   "outputs": [
    {
     "name": "stdout",
     "output_type": "stream",
     "text": [
      "Year\n",
      "2005     1\n",
      "2006     4\n",
      "2007     1\n",
      "2008    10\n",
      "2009    38\n",
      "2010    12\n",
      "2011    11\n",
      "2012    14\n",
      "2013     9\n",
      "2014     3\n",
      "2015     5\n",
      "2016     7\n",
      "2017    11\n",
      "2018     5\n",
      "2019    12\n",
      "2020    19\n",
      "2021     1\n",
      "2022     3\n",
      "2023     1\n",
      "Name: date, dtype: int64\n"
     ]
    }
   ],
   "source": [
    "# Count the number of different dates for each year\n",
    "unique_dates_per_year = data.groupby('Year')['date'].nunique()\n",
    "\n",
    "# Print the results\n",
    "print(unique_dates_per_year)\n"
   ]
  },
  {
   "cell_type": "code",
   "execution_count": 4,
   "metadata": {},
   "outputs": [
    {
     "name": "stdout",
     "output_type": "stream",
     "text": [
      "Year\n",
      "2005     1\n",
      "2006     4\n",
      "2007     1\n",
      "2008    10\n",
      "2009    45\n",
      "2010    12\n",
      "2011    11\n",
      "2012    14\n",
      "2013    10\n",
      "2014     6\n",
      "2015     5\n",
      "2016     7\n",
      "2017    11\n",
      "2018     6\n",
      "2019    12\n",
      "2020    19\n",
      "2021     1\n",
      "2022     3\n",
      "2023     1\n",
      "Name: auction_name, dtype: int64\n"
     ]
    }
   ],
   "source": [
    "# Count the number of unique auction_name values for each year\n",
    "unique_auction_names_per_year = data.groupby('Year')['auction_name'].nunique()\n",
    "\n",
    "# Print the results\n",
    "print(unique_auction_names_per_year)\n"
   ]
  },
  {
   "cell_type": "code",
   "execution_count": 5,
   "metadata": {},
   "outputs": [
    {
     "name": "stdout",
     "output_type": "stream",
     "text": [
      "Year\n",
      "2005     1\n",
      "2006     4\n",
      "2007     1\n",
      "2008    10\n",
      "2009    45\n",
      "2010    12\n",
      "2011    11\n",
      "2012    14\n",
      "2013    10\n",
      "2014     6\n",
      "2015     5\n",
      "2016     7\n",
      "2017    12\n",
      "2018     6\n",
      "2019    12\n",
      "2020    19\n",
      "2021     1\n",
      "2022     3\n",
      "2023     1\n",
      "Name: Auction_Date, dtype: int64\n"
     ]
    }
   ],
   "source": [
    "# Merge 'auction_name' and 'date' columns\n",
    "data['Auction_Date'] = data['auction_name'] + ' - ' + data['date']\n",
    "\n",
    "# Count the number of unique 'Auction_Date' values for each year\n",
    "unique_auction_dates_per_year = data.groupby('Year')['Auction_Date'].nunique()\n",
    "\n",
    "# Print the results\n",
    "print(unique_auction_dates_per_year)\n"
   ]
  },
  {
   "cell_type": "code",
   "execution_count": 6,
   "metadata": {},
   "outputs": [
    {
     "name": "stdout",
     "output_type": "stream",
     "text": [
      "Number of auctions to buy: 72\n",
      "Number of auctions to sell: 143\n"
     ]
    }
   ],
   "source": [
    "# Count the number of auctions to buy and to sell\n",
    "auctions_to_buy = data[data['noi_direction'] == -1].shape[0]\n",
    "auctions_to_sell = data[data['noi_direction'] == 1].shape[0]\n",
    "\n",
    "# Print the results\n",
    "print(\"Number of auctions to buy:\", auctions_to_buy)\n",
    "print(\"Number of auctions to sell:\", auctions_to_sell)\n"
   ]
  },
  {
   "cell_type": "code",
   "execution_count": 7,
   "metadata": {},
   "outputs": [
    {
     "data": {
      "text/plain": [
       "18"
      ]
     },
     "execution_count": 7,
     "metadata": {},
     "output_type": "execute_result"
    }
   ],
   "source": [
    "auctions_neither = data[~data['noi_direction'].isin([-1, 1])]\n",
    "auctions_neither.shape[0]\n",
    "#print(\"Number of auctions neither:\", auctions_neither)\n"
   ]
  },
  {
   "cell_type": "code",
   "execution_count": 8,
   "metadata": {},
   "outputs": [
    {
     "name": "stdout",
     "output_type": "stream",
     "text": [
      "Number of rows with noi_absolute_value equal to 0: 18\n"
     ]
    }
   ],
   "source": [
    "count_zero_noi = data[data['noi_absolute_value'] == 0].shape[0]\n",
    "print(\"Number of rows with noi_absolute_value equal to 0:\", count_zero_noi)\n"
   ]
  },
  {
   "cell_type": "code",
   "execution_count": 9,
   "metadata": {},
   "outputs": [
    {
     "name": "stdout",
     "output_type": "stream",
     "text": [
      "24\n"
     ]
    }
   ],
   "source": [
    "auction_no_stage2 = data[(~data['noi_direction'].isin([-1, 1])) | (data['noi_absolute_value'] == 0)].shape[0]\n",
    "print(auction_no_stage2)\n"
   ]
  },
  {
   "cell_type": "code",
   "execution_count": 10,
   "metadata": {},
   "outputs": [
    {
     "name": "stdout",
     "output_type": "stream",
     "text": [
      "Number of auctions with stage 2:  209\n"
     ]
    }
   ],
   "source": [
    "# Filter the auctions that are neither to buy nor to sell\n",
    "n_auctions_with_stage2 = data[(data['noi_direction'].isin([-1, 1])) & (data['noi_absolute_value'] != 0)].shape[0]\n",
    "print(\"Number of auctions with stage 2: \", n_auctions_with_stage2)\n"
   ]
  },
  {
   "cell_type": "code",
   "execution_count": 11,
   "metadata": {},
   "outputs": [
    {
     "data": {
      "image/png": "[encoded data removed]",
      "text/plain": [
       "<Figure size 800x600 with 1 Axes>"
      ]
     },
     "metadata": {},
     "output_type": "display_data"
    },
    {
     "name": "stdout",
     "output_type": "stream",
     "text": [
      "Descriptive Statistics for Final Price:\n",
      "count    209.000000\n",
      "mean      40.651483\n",
      "std       32.644201\n",
      "min        0.000000\n",
      "25%       12.000000\n",
      "50%       31.375000\n",
      "75%       71.250000\n",
      "max      104.250000\n",
      "Name: final_price, dtype: float64\n",
      "Percentile 10 for Final Price: 3.0\n",
      "Percentile 90 for Final Price: 91.502\n"
     ]
    },
    {
     "data": {
      "image/png": "[encoded data removed]",
      "text/plain": [
       "<Figure size 800x600 with 1 Axes>"
      ]
     },
     "metadata": {},
     "output_type": "display_data"
    },
    {
     "name": "stdout",
     "output_type": "stream",
     "text": [
      "\n",
      "Descriptive Statistics for IMM:\n",
      "count    209.000000\n",
      "mean      40.832416\n",
      "std       31.880718\n",
      "min        1.000000\n",
      "25%       12.750000\n",
      "50%       30.375000\n",
      "75%       73.000000\n",
      "max      101.250000\n",
      "Name: IMM, dtype: float64\n",
      "Percentile 10 for IMM: 3.5\n",
      "Percentile 90 for IMM: 88.9\n"
     ]
    },
    {
     "data": {
      "image/png": "[encoded data removed]",
      "text/plain": [
       "<Figure size 800x600 with 1 Axes>"
      ]
     },
     "metadata": {},
     "output_type": "display_data"
    },
    {
     "name": "stdout",
     "output_type": "stream",
     "text": [
      "Descriptive Statistics for Absolute Value of NOI:\n",
      "count    2.090000e+02\n",
      "mean     1.292468e+08\n",
      "std      2.116114e+08\n",
      "min      1.839371e+05\n",
      "25%      1.654160e+07\n",
      "50%      5.397096e+07\n",
      "75%      1.374917e+08\n",
      "max      1.243798e+09\n",
      "Name: noi_usd, dtype: float64\n",
      "Percentile 10 for Absolute Value of NOI: 5430000.0\n",
      "Percentile 90 for Absolute Value of NOI: 293280000.0000001\n"
     ]
    }
   ],
   "source": [
    "import matplotlib.pyplot as plt\n",
    "import numpy as np\n",
    "\n",
    "# Compute descriptive statistics for final price\n",
    "auctions_with_stage2 = data[(data['noi_direction'].isin([-1, 1])) & (data['noi_usd'] != 0)]\n",
    "descriptive_stats_final_price = auctions_with_stage2['final_price'].describe()\n",
    "\n",
    "# Compute descriptive statistics for IMM\n",
    "descriptive_stats_imm = auctions_with_stage2['IMM'].describe()\n",
    "\n",
    "# Compute 10th and 90th percentiles separately for final price\n",
    "percentile_10_final_price = np.percentile(auctions_with_stage2['final_price'], 10)\n",
    "percentile_90_final_price = np.percentile(auctions_with_stage2['final_price'], 90)\n",
    "\n",
    "# Compute 10th and 90th percentiles separately for IMM\n",
    "percentile_10_imm = np.percentile(auctions_with_stage2['IMM'], 10)\n",
    "percentile_90_imm = np.percentile(auctions_with_stage2['IMM'], 90)\n",
    "\n",
    "# Compute descriptive statistics for absolute value of NOI\n",
    "descriptive_stats_noi_absolute_value = auctions_with_stage2['noi_usd'].describe()\n",
    "\n",
    "# Compute 10th and 90th percentiles separately for absolute value of NOI\n",
    "percentile_10_noi_absolute_value = np.percentile(auctions_with_stage2['noi_absolute_value'], 10)\n",
    "percentile_90_noi_absolute_value = np.percentile(auctions_with_stage2['noi_absolute_value'], 90)\n",
    "\n",
    "# Plot the distribution of final price\n",
    "plt.figure(figsize=(8, 6))\n",
    "plt.hist(auctions_with_stage2['final_price'], bins=20, edgecolor='black')\n",
    "plt.xlabel('Final Price')\n",
    "plt.ylabel('Frequency')\n",
    "plt.title('Distribution of Final Price')\n",
    "plt.axvline(percentile_10_final_price, color='r', linestyle='--', label='10th Percentile')\n",
    "plt.axvline(percentile_90_final_price, color='g', linestyle='--', label='90th Percentile')\n",
    "plt.legend()\n",
    "plt.show()\n",
    "\n",
    "# Print the descriptive statistics for final price\n",
    "print(\"Descriptive Statistics for Final Price:\")\n",
    "print(descriptive_stats_final_price)\n",
    "print(\"Percentile 10 for Final Price:\", percentile_10_final_price)\n",
    "print(\"Percentile 90 for Final Price:\", percentile_90_final_price)\n",
    "\n",
    "# Plot the distribution of IMM\n",
    "plt.figure(figsize=(8, 6))\n",
    "plt.hist(auctions_with_stage2['IMM'], bins=20, edgecolor='black')\n",
    "plt.xlabel('IMM')\n",
    "plt.ylabel('Frequency')\n",
    "plt.title('Distribution of IMM')\n",
    "plt.axvline(percentile_10_imm, color='r', linestyle='--', label='10th Percentile')\n",
    "plt.axvline(percentile_90_imm, color='g', linestyle='--', label='90th Percentile')\n",
    "plt.legend()\n",
    "plt.show()\n",
    "\n",
    "\n",
    "# Print the descriptive statistics for IMM\n",
    "print(\"\\nDescriptive Statistics for IMM:\")\n",
    "print(descriptive_stats_imm)\n",
    "print(\"Percentile 10 for IMM:\", percentile_10_imm)\n",
    "print(\"Percentile 90 for IMM:\", percentile_90_imm)\n",
    "\n",
    "\n",
    "\n",
    "# Plot the distribution of absolute value of NOI\n",
    "plt.figure(figsize=(8, 6))\n",
    "plt.hist(auctions_with_stage2['noi_usd'], bins=20, edgecolor='black')\n",
    "plt.xlabel('Absolute Value of NOI')\n",
    "plt.ylabel('Frequency')\n",
    "plt.title('Distribution of Absolute Value of NOI')\n",
    "plt.axvline(percentile_10_noi_absolute_value, color='r', linestyle='--', label='10th Percentile')\n",
    "plt.axvline(percentile_90_noi_absolute_value, color='g', linestyle='--', label='90th Percentile')\n",
    "plt.legend()\n",
    "plt.show()\n",
    "\n",
    "# Print the descriptive statistics for absolute value of NOI\n",
    "print(\"Descriptive Statistics for Absolute Value of NOI:\")\n",
    "print(descriptive_stats_noi_absolute_value)\n",
    "print(\"Percentile 10 for Absolute Value of NOI:\", percentile_10_noi_absolute_value)\n",
    "print(\"Percentile 90 for Absolute Value of NOI:\", percentile_90_noi_absolute_value)\n",
    "\n"
   ]
  },
  {
   "cell_type": "code",
   "execution_count": 12,
   "metadata": {},
   "outputs": [
    {
     "name": "stdout",
     "output_type": "stream",
     "text": [
      "                                    identifier                auction_name  \\\n",
      "18                      20081106_kaupth_Senior              Kaupthing Bank   \n",
      "48                         20090423_idearc_CDS                      Idearc   \n",
      "56                         20090610_jscbta_CDS                JSC BTA Bank   \n",
      "77                         20091120_citgrp_CDS                         CIT   \n",
      "13                         20081023_washmu_CDS           Washington Mutual   \n",
      "22                         20090106_tribco_CDS                     Tribune   \n",
      "58                         20090612_genmtr_CDS              General Motors   \n",
      "230                        20220912_RUSSIA_CDS                Russian Fedn   \n",
      "9    20081006_famefrmc_Fannie-Mae-Subordinated  Fannie Mae and Freddie Mac   \n",
      "14                      20081104_landsb_Senior                  Landsbanki   \n",
      "\n",
      "          noi_usd currency  exchange_rate currencies_exchange  \n",
      "18   1.243798e+09      EUR       0.783085             USD/EUR  \n",
      "48   1.173859e+09      USD       1.000000             USD/USD  \n",
      "56   1.120950e+09      USD       1.000000             USD/USD  \n",
      "77   1.093470e+09      USD       1.000000             USD/USD  \n",
      "13   9.880000e+08      USD       1.000000             USD/USD  \n",
      "22   9.769050e+08      USD       1.000000             USD/USD  \n",
      "58   7.331182e+08      USD       1.000000             USD/USD  \n",
      "230  6.112198e+08      USD       1.000000             USD/USD  \n",
      "9    6.080000e+08      USD       1.000000             USD/USD  \n",
      "14   5.820280e+08      EUR       0.780031             USD/EUR  \n"
     ]
    }
   ],
   "source": [
    "top_10_rows = auctions_with_stage2.nlargest(10, 'noi_usd')\n",
    "top_10_rows_sorted = top_10_rows.sort_values('noi_usd', ascending=False)\n",
    "print(top_10_rows_sorted[['identifier', 'auction_name', 'noi_usd', 'currency', 'exchange_rate', 'currencies_exchange']])\n"
   ]
  },
  {
   "cell_type": "code",
   "execution_count": 13,
   "metadata": {},
   "outputs": [
    {
     "name": "stdout",
     "output_type": "stream",
     "text": [
      "                           identifier  \\\n",
      "83                 20100325_aiful_CDS   \n",
      "150               20131204_OGXPET_CDS   \n",
      "155             20140819_SOLOGRO_LCDS   \n",
      "131  20120502_ELCDS-Eircom_LCDS-LIEN2   \n",
      "164              20160406_PACIEXP_CDS   \n",
      "23               20090106_tribco_LCDS   \n",
      "141                20130424_DXMI_LCDS   \n",
      "142                20130424_SPMD_LCDS   \n",
      "29           20090205_sanitc_1st-Lien   \n",
      "138            20130131_PJHOLDCO_LCDS   \n",
      "\n",
      "                                          auction_name       noi_usd currency  \\\n",
      "83                                               Aiful  1.839371e+05      JPY   \n",
      "150                OGX PETROLEO E GAS PARTICIPACOES SA  2.703000e+05      USD   \n",
      "155  Solocal Group S.A. (formerly known as PagesJau...  6.677000e+05      EUR   \n",
      "131                                             Eircom  1.313100e+06      EUR   \n",
      "164                           PACIFIC EXPL PRODTN CORP  1.339839e+06      USD   \n",
      "23                                             Tribune  2.554000e+06      USD   \n",
      "141                               Dex Media West, Inc.  2.563600e+06      USD   \n",
      "142                                    SuperMedia Inc.  2.563600e+06      USD   \n",
      "29                                             Sanitec  2.565800e+06      EUR   \n",
      "138                                       Mediannuaire  2.710000e+06      EUR   \n",
      "\n",
      "     exchange_rate currencies_exchange  \n",
      "83       92.422881             USD/JPY  \n",
      "150       1.000000             USD/USD  \n",
      "155       0.748839             USD/EUR  \n",
      "131       0.761557             USD/EUR  \n",
      "164       1.000000             USD/USD  \n",
      "23        1.000000             USD/USD  \n",
      "141       1.000000             USD/USD  \n",
      "142       1.000000             USD/USD  \n",
      "29        0.779484             USD/EUR  \n",
      "138       0.738007             USD/EUR  \n"
     ]
    }
   ],
   "source": [
    "bottom_10_rows = auctions_with_stage2.nsmallest(10, 'noi_usd')\n",
    "bottom_10_rows_sorted = bottom_10_rows.sort_values('noi_usd', ascending=True)\n",
    "print(bottom_10_rows_sorted[['identifier', 'auction_name', 'noi_usd', 'currency', 'exchange_rate', 'currencies_exchange']])\n"
   ]
  },
  {
   "cell_type": "code",
   "execution_count": 14,
   "metadata": {},
   "outputs": [
    {
     "data": {
      "image/png": "[encoded data removed]",
      "text/plain": [
       "<Figure size 800x600 with 1 Axes>"
      ]
     },
     "metadata": {},
     "output_type": "display_data"
    }
   ],
   "source": [
    "smallest_100_rows = auctions_with_stage2.nsmallest(200, 'noi_absolute_value')\n",
    "\n",
    "plt.figure(figsize=(8, 6))\n",
    "plt.hist(smallest_100_rows['noi_absolute_value'], bins=20, edgecolor='black')\n",
    "plt.xlabel('NOI Absolute Value')\n",
    "plt.ylabel('Frequency')\n",
    "plt.title('Distribution of NOI Absolute Value (Smallest 100)')\n",
    "plt.show()\n"
   ]
  },
  {
   "cell_type": "code",
   "execution_count": 15,
   "metadata": {},
   "outputs": [
    {
     "name": "stdout",
     "output_type": "stream",
     "text": [
      "Missing values in IMM column: 0\n"
     ]
    }
   ],
   "source": [
    "missing_values = auctions_with_stage2['IMM'].isnull().sum()\n",
    "print(\"Missing values in IMM column:\", missing_values)\n"
   ]
  },
  {
   "cell_type": "code",
   "execution_count": 49,
   "metadata": {},
   "outputs": [
    {
     "name": "stdout",
     "output_type": "stream",
     "text": [
      "                      identifier                                auction_name  \\\n",
      "195  20181127_NOVOBAN_CDS-Senior  NOVO BCO SA (senior SRO transactions only)   \n",
      "205    20190911_TOGUN_CDS-Senior                 TOP GUN REALISATIONS 61 LTD   \n",
      "216          20200604_INTINV_CDS                           Intelsat Invts SA   \n",
      "\n",
      "                  date   ticker   box_title  multiple_final_prices  \\\n",
      "195   27 November 2018  NOVOBAN  CDS-Senior                  False   \n",
      "205  11 September 2019    TOGUN  CDS-Senior                  False   \n",
      "216       04 June 2020   INTINV         CDS                  False   \n",
      "\n",
      "     final_price  IMM                   NOI  noi_absolute_value  \\\n",
      "195        89.96  NaN                   NaN                 NaN   \n",
      "205       100.00  NaN  EUR 0 million to buy                 0.0   \n",
      "216       100.00  NaN  USD 0 million to buy                 0.0   \n",
      "\n",
      "     noi_direction currency  exchange_rate currencies_exchange  noi_usd  Year  \\\n",
      "195            NaN      EUR       0.882768             USD/EUR      NaN  2018   \n",
      "205           -1.0      EUR       0.908843             USD/EUR      0.0  2019   \n",
      "216           -1.0      USD       1.000000             USD/USD      0.0  2020   \n",
      "\n",
      "                                          Auction_Date  \n",
      "195  NOVO BCO SA (senior SRO transactions only) - 2...  \n",
      "205    TOP GUN REALISATIONS 61 LTD - 11 September 2019  \n",
      "216                   Intelsat Invts SA - 04 June 2020  \n"
     ]
    }
   ],
   "source": [
    "nan_rows = data[data['IMM'].isnull()]\n",
    "print(nan_rows)\n"
   ]
  },
  {
   "cell_type": "code",
   "execution_count": 54,
   "metadata": {},
   "outputs": [
    {
     "name": "stdout",
     "output_type": "stream",
     "text": [
      "45\n"
     ]
    }
   ],
   "source": [
    "# Count the number of rows containing \"LCDS\" or \"lien\" in the \"box_title\" column\n",
    "LCDS_count = data['box_title'].str.contains('LCDS|lien', case=False).sum()\n",
    "\n",
    "# Print the count\n",
    "print(LCDS_count)\n"
   ]
  },
  {
   "attachments": {},
   "cell_type": "markdown",
   "metadata": {
    "collapsed": false,
    "pycharm": {
     "name": "#%% md\n"
    }
   },
   "source": [
    "### Physical Settlement Requests and IMM"
   ]
  },
  {
   "cell_type": "code",
   "execution_count": 61,
   "metadata": {
    "collapsed": false,
    "pycharm": {
     "name": "#%%\n"
    }
   },
   "outputs": [],
   "source": [
    "## import necessary libraries\n",
    "import pandas as pd\n",
    "import matplotlib.pyplot as plt\n",
    "import matplotlib.cm as cm\n",
    "import os\n",
    "import glob\n",
    "from matplotlib.lines import Line2D\n",
    "\n",
    "\n",
    "## set up the directories\n",
    "path = os.getcwd()\n",
    "path = os.path.join(path, \"Results\")\n",
    "path_psr_fig =  os.path.join(path, \"PSR\")\n",
    "if not os.path.exists(path_psr_fig):\n",
    "    os.makedirs(path_psr_fig)\n",
    "\n",
    "csv_files = glob.glob(os.path.join(path, \"*.csv\"))\n",
    "csv_files = [file for file in csv_files if \"Limit Orders\" not in file]\n",
    "\n",
    "## create colors for plots\n",
    "cmap = cm.get_cmap('Set1')\n",
    "n_colors = 15\n",
    "csv_files.sort(key=lambda x: int(os.path.basename(x)[:4]))\n",
    "\n",
    "legend_elements = [Line2D([0], [0], marker='s', color='w', label='Offer',\n",
    "                          markerfacecolor='gray', markersize=11),\n",
    "                          Line2D([0], [0], marker='o', color='w', label='Bid',\n",
    "                          markerfacecolor='gray', markersize=11)]\n",
    "counter = 0\n",
    "for file in csv_files:\n",
    "    try:\n",
    "        if \"Dealer,Bid,Offer\" in open(file).read():\n",
    "            df = pd.read_csv(file)\n",
    "            dealers = df['Dealer'].unique()\n",
    "            colors = [cmap(i) for i in range(len(dealers))]\n",
    "            shapes = ['o', 's']\n",
    "            plt.figure(figsize=(10, 12))\n",
    "            filename = os.path.basename(file)\n",
    "            name, ext = os.path.splitext(filename)  # Split the file name into name and extension parts and assign them to the variables name and ext respectively\n",
    "            plt.suptitle(name) # Set the title of the figure as the name of the file\n",
    "            for i, dealer in enumerate(dealers):\n",
    "                group = df[df['Dealer'] == dealer]\n",
    "                x = [i for _ in range(len(group))]\n",
    "                y = group['Bid'].values\n",
    "                plt.scatter(x, y,color=cmap(i/n_colors), marker=shapes[0], label='Bid')\n",
    "                y = group['Offer'].values\n",
    "                plt.scatter(x, y, color=cmap(i/n_colors), marker=shapes[1], label = 'Offer')\n",
    "            average_bid = df['Bid'].mean()\n",
    "            average_offer = df['Offer'].mean()\n",
    "            average_all = (df['Bid'].mean() + df['Offer'].mean())/2\n",
    "            plt.axhline(average_bid, color='darkgrey', linestyle='dashed', label='Avg Bid')\n",
    "            plt.axhline(average_offer, color='grey', linestyle='dashed', label='Avg Offer')\n",
    "            plt.axhline(average_all, color='darkgrey', linestyle='dashed', label='Avg All')\n",
    "            df['Dealer_short'] = df['Dealer'].str.slice(stop=15)\n",
    "            plt.xticks(range(len(dealers)), df['Dealer_short'], rotation=90)\n",
    "            plt.legend(handles=legend_elements)\n",
    "            \n",
    "            # Order the bids and offers in decreasing and increasing order respectively:\n",
    "            df_bid_asc = df.sort_values(by=['Bid'], ascending=False)\n",
    "            df_off_desc = df.sort_values(by=['Offer'], ascending=True)\n",
    "\n",
    "            # Compare the bids and offers, and store the remaining bids and offers in the variables defined in step 2:\n",
    "            # Order the bids and offers in decreasing and increasing order respectively:\n",
    "            df_bid_asc = df.sort_values(by=['Bid'], ascending=False)\n",
    "            df_off_desc = df.sort_values(by=['Offer'], ascending=True)\n",
    "\n",
    "            i,j = 0,0\n",
    "            while i < len(df_bid_asc) and j < len(df_off_desc):\n",
    "                if df_bid_asc.iloc[i]['Bid'] >= df_off_desc.iloc[j]['Offer']:\n",
    "                    df_bid_asc = df_bid_asc.drop(df_bid_asc.index[i])\n",
    "                    df_off_desc = df_off_desc.drop(df_off_desc.index[j])\n",
    "                else:\n",
    "                    i+=1\n",
    "                    j+=1\n",
    "\n",
    "            n = len(df_bid_asc)\n",
    "            if n == 0:\n",
    "                IMM = None\n",
    "            else:\n",
    "                IMM = (df_off_desc['Offer'].mean() + df_bid_asc['Bid'].mean())/2\n",
    "            print(IMM)\n",
    "            IMM = round(IMM * 8) / 8\n",
    "\n",
    "            print(\"IMM: \",IMM)\n",
    "\n",
    "            plt.axhline(IMM, color='red', linestyle='solid', label='IMM')\n",
    "            plt.legend(handles=legend_elements+[Line2D([0], [0], color='red', label='IMM', linestyle='solid')])\n",
    "            # Saving the figure and displying it \n",
    "            \n",
    "            plt.savefig(os.path.join(path_psr_fig, name + \"_p.png\"), format='png') # The code is saving the figure in the path specified by the path_lo_fig variable and appending the name of the file with 'Offer.png' and format is set to png\n",
    "            plt.show()  # The code is showing the plot\n",
    "            plt.clf()   # The code is clearing the current figure to free up memory\n",
    "        \n",
    "    except Exception as e:\n",
    "        print(f'An error occurred while processing {file} : {e}')\n",
    "        with open('error_log.txt', 'a') as f:\n",
    "            f.write(f'An error occurred while processing {file} : {e}\\n')\n",
    "        #counter += 1\n",
    "        #if counter > 40:\n",
    "        #    break\n",
    "    continue\n",
    "    "
   ]
  },
  {
   "attachments": {},
   "cell_type": "markdown",
   "metadata": {
    "collapsed": false,
    "pycharm": {
     "name": "#%% md\n"
    }
   },
   "source": [
    "### Physical Settlement Requests and NOI"
   ]
  },
  {
   "cell_type": "code",
   "execution_count": null,
   "metadata": {
    "collapsed": false,
    "pycharm": {
     "name": "#%%\n"
    }
   },
   "outputs": [],
   "source": [
    "## import necessary libraries\n",
    "import pandas as pd\n",
    "import matplotlib.pyplot as plt\n",
    "import matplotlib.cm as cm\n",
    "import os\n",
    "import glob\n",
    "from matplotlib.lines import Line2D\n",
    "\n",
    "\n",
    "## set up the directories\n",
    "path = os.getcwd()\n",
    "path = os.path.join(path, \"Results\")\n",
    "path_psr_fig =  os.path.join(path, \"PSR\")\n",
    "if not os.path.exists(path_psr_fig):\n",
    "    os.makedirs(path_psr_fig)\n",
    "\n",
    "csv_files = glob.glob(os.path.join(path, \"*.csv\"))\n",
    "csv_files = [file for file in csv_files if \"Limit Orders\" not in file]\n",
    "\n",
    "## create colors for plots\n",
    "cmap = cm.get_cmap('Set1')\n",
    "n_colors = 15\n",
    "csv_files.sort(key=lambda x: int(os.path.basename(x)[:4]))\n",
    "\n",
    "\n",
    "def size_signed(row):\n",
    "    if row[\"Bid/Offer\"] == \"Bid\":\n",
    "        return -1 * row[\"Size\"]\n",
    "    else:\n",
    "        return row[\"Size\"]\n",
    "\n",
    "\n",
    "\n",
    "for file in csv_files:\n",
    "        if \"Dealer,Bid/Offer,Size\" in open(file).read() or \"Bidder,Bid / Offer,\" in open(file).read():\n",
    "            print(file)\n",
    "            df = pd.read_csv(file)\n",
    "            df = df.rename(columns={\"Bid / Offer\": \"Bid/Offer\", \"Size / $ m\": \"Size\", \"Size / $m\": \"Size\", \"Bidder\": \"Dealer\" })\n",
    "\n",
    "            df[\"Size_signed\"] = df.apply(size_signed, axis=1)\n",
    "            NOI = sum(df[\"Size_signed\"])\n",
    "            print(\"NOI is \" + str(NOI))\n",
    "\n",
    "            filename = os.path.basename(file)\n",
    "            name, ext = os.path.splitext(filename)  # Split the file name into name and extension parts and assign them to the variables name and ext respectively\n",
    "            plt.figure()\n",
    "            plt.suptitle(name) # Set the title of the figure as the name of the file\n",
    "\n",
    "            plt.scatter(df[df[\"Size_signed\"] > 0]['Size_signed'], df[df[\"Size_signed\"] > 0]['Dealer'], marker='s')\n",
    "            plt.scatter(df[df[\"Size_signed\"] < 0]['Size_signed'], df[df[\"Size_signed\"] < 0]['Dealer'], marker='o')\n",
    "            plt.scatter(df[df[\"Size_signed\"] == 0]['Size_signed'], df[df[\"Size_signed\"] == 0]['Dealer'], marker='x')    \n",
    "            plt.axvline(x=0,  linestyle='--', color= \"darkgrey\")\n",
    "\n",
    "            plt.xlabel(\"Size signed\")\n",
    "            plt.ylabel(\"Dealer\")\n",
    "            \n",
    "            plt.savefig(os.path.join(path_psr_fig, name + \"_Q.png\"), format='png') # The code is saving the figure in the path specified by the path_lo_fig variable and appending the name of the file with 'Offer.png' and format is set to png\n",
    "            plt.show()  # The code is showing the plot\n",
    "            plt.clf()   # The code is clearing the current figure to free up memory\n",
    "            \n",
    "            #print(df)\n"
   ]
  },
  {
   "attachments": {},
   "cell_type": "markdown",
   "metadata": {
    "collapsed": false,
    "pycharm": {
     "name": "#%% md\n"
    }
   },
   "source": [
    "### Limit Orders when NOI to Buy\n"
   ]
  },
  {
   "cell_type": "code",
   "execution_count": null,
   "metadata": {
    "collapsed": false,
    "pycharm": {
     "name": "#%%\n"
    }
   },
   "outputs": [],
   "source": [
    "## import necessary libraries\n",
    "\n",
    "import pandas as pd #  used for data manipulation and analysis.\n",
    "import matplotlib.pyplot as plt  # used for creating plots\n",
    "import matplotlib.colors as mcolors # used for creating a color map for the dots\n",
    "import os # used for interacting with the operating system, such as creating directories\n",
    "import glob # used for finding all the csv files in a directory\n",
    "import matplotlib.cm as cm\n",
    "import re # used for regular expressions\n",
    "\n",
    "## set up the directories\n",
    "\n",
    "path = os.getcwd() # gets the current working directory and assigns it to the variable path.\n",
    "path = os.path.join(path, \"Results\") #concatenates the path variable with the string \"Results\" and assigns it to the variable path.\n",
    "path_lo_fig =  os.path.join(path, \"Limit-Orders-Graphs\")\n",
    "#checks if the directory specified by path_lo_fig exists, and if it does not, it creates the directory using os.makedirs(path_lo_fig).\n",
    "if not os.path.exists(path_lo_fig):\n",
    "    os.makedirs(path_lo_fig)\n",
    "# find all the csv files in the directory specified by path whose names contain the string \"Limit Orders\". \n",
    "csv_files = glob.glob(os.path.join(path, \"*Limit Orders*.csv\"))\n",
    "\n",
    "## create colors for plots\n",
    "# Create a color map for the dots\n",
    "cmap = cm.get_cmap('Set1')\n",
    "# Set the number of colors you want\n",
    "n_colors = 15\n",
    "# sort the files by the first four characters of their filename\n",
    "csv_files.sort(key=lambda x: int(os.path.basename(x)[:4]))\n",
    "\n",
    "## create a set of unique dealers for all the auctions\n",
    "unique_dealers = set() # Create an empty set\n",
    "\n",
    "## Create Limit Order Plots: left side by dealer and right side aggregate\n",
    "for file in csv_files:\n",
    "    try: #to handle errors\n",
    "        if \"Offer\" in open(file).read(): # Open the file and check if the string \"Offer\" is present in the file's contents. If it is, the code continues to execute.\n",
    "            print(file)\n",
    "            df = pd.read_csv(file) # Read the csv file and assign it to a dataframe called df.\n",
    "            df['Offer'] = df['Offer'].astype(str)\n",
    "            df['Offer'] = df['Offer'].replace(to_replace='#', value='', regex=True) # Replacing the '#' character with nothing in the 'Offer' column.\n",
    "            df['Dealer'] = df['Dealer'].str.replace('*','') # Replacing the '*' character with nothing in the 'Dealer' column\n",
    "            df.columns = df.columns.str.replace(r'\\*|\\*\\*', '') # Replacing the '*' and '**' characters with nothing in the column names.\n",
    "            df= df.dropna()\n",
    "            df = df.reset_index(drop=True)\n",
    "\n",
    "            df['Filled'] = 0\n",
    "            df.loc[df['Offer'].str.contains('\\^'), 'Filled'] = 1\n",
    "            df.loc[df['Offer'].str.contains('\\*') & (df['Filled'] == 0), 'Filled'] = 1\n",
    "\n",
    "            df['Part_Filled'] = 0\n",
    "            df.loc[df['Offer'].str.contains('\\^'), 'Part_Filled'] = 1\n",
    "\n",
    "            df['Offer'] = df['Offer'].replace(to_replace='\\^', value='', regex=True) # Replacing the '^' character with nothing in the 'Offer' column.\n",
    "            df = df.replace(regex=r'\\*|\\*\\*', value='') # Replacing the '*' and '**' characters with nothing in all columns of the dataframe.\n",
    "            df['Offer'] = pd.to_numeric(df['Offer']) # Convert the 'Offer' column in df to a numeric data type.\n",
    "            \n",
    "            df_agg = df.groupby(['Dealer', 'Offer', 'Filled'])['Size'].sum().reset_index() # Create a new dataframe called df_agg that groups by 'Dealer', 'Offer', and 'Filled' columns and sums the 'Size' column.\n",
    "            df_agg['CumulativeSize'] = df_agg.groupby(['Dealer'])['Size'].cumsum() # Add a new column 'CumulativeSize' to df_agg that is the cumulative sum of the 'Size' column grouped by 'Dealer'\n",
    "\n",
    "            final_price = df_agg[df_agg['Filled'] == 1]['Offer'].max() # Getting the final price of the auction by finding the minimum value in the 'Offer' column of the df_agg dataframe.\n",
    "            print(\"Final price is \" + str(final_price))\n",
    "            dealers = df_agg.Dealer.unique() # Create a list of unique dealers\n",
    "            unique_dealers.update(dealers) # Add the unique values to the set\n",
    "\n",
    "            # Create a figure with 2 subplots, one for the dealer plots and one for the aggregate supply\n",
    "            fig, (ax1, ax2) = plt.subplots(1, 2, figsize=(12, 6))\n",
    "            filename = os.path.basename(file)\n",
    "            name, ext = os.path.splitext(filename)  # Split the file name into name and extension parts and assign them to the variables name and ext respectively\n",
    "            fig.suptitle(name) # Set the title of the figure as the name of the file\n",
    "\n",
    "            # Compute Cumulative Size and NOI\n",
    "            df = df.sort_values(by='Offer', ascending=True) # Sort the dataframe by 'Offer' in ascending order\n",
    "            df['CumulativeSize'] = df['Size'].cumsum() # Add a new column 'CumulativeSize' to df_supply that is the cumulative sum of the 'Size' column\n",
    "            df = df.reset_index(drop=True)\n",
    "            #print(df)\n",
    "            if df['Part_Filled'].sum() == 0:\n",
    "                NOI= df[df['Offer'] == final_price]['CumulativeSize'].max()\n",
    "                ax2.axvline(x=NOI, color='orange', linestyle='--', label ='NOI')\n",
    "            else: \n",
    "                if df.loc[0,'Part_Filled'] == 1:\n",
    "                    NOI = df.loc[df['Part_Filled'] == 1, 'CumulativeSize'].max()\n",
    "                    ax2.axvline(x=NOI, color='orange', linestyle='--', label ='NOI')\n",
    "                else:\n",
    "                    max_NOI = df[df['Offer'] == final_price]['CumulativeSize'].max()\n",
    "                    min_NOI = df.loc[df[df['Part_Filled'] == 1].index[0]-1, 'CumulativeSize']\n",
    "                    NOI= \"Range of Values more than \" + str(min_NOI) + \" and less than \" + str(max_NOI)\n",
    "                    ax2.axvspan(min_NOI, max_NOI, color='orange', alpha=0.5, label = 'Range of possible NOI')\n",
    "            print(\"NOI is \" + str(NOI))\n",
    "\n",
    "            # Plot dealer's supply data on the left axes\n",
    "            for i, dealer in enumerate(dealers):\n",
    "                temp_df = df[df['Dealer'] == dealer] # Create a new dataframe called temp_df that contains only the rows from df_agg that have the current dealer\n",
    "                temp_df_agg = df_agg[df_agg['Dealer'] == dealer] # Create a new dataframe called temp_df that contains only the rows from df_agg that have the current dealer\n",
    "                temp_df_agg = temp_df_agg.sort_values(by='Offer') # Sort the dataframe by 'Offer' in ascending order\n",
    "                if len(temp_df_agg) < 2:  # If the number of rows in temp_df is less than 2, then it will plot the data as scatter plot\n",
    "                    ax1.scatter(temp_df_agg['CumulativeSize'], temp_df_agg['Offer'], color=cmap(i/n_colors), label = dealer)\n",
    "                else:  # If the number of rows in temp_df is more than 2, then it will plot the data as line plot\n",
    "                    ax1.plot(temp_df_agg['CumulativeSize'], temp_df_agg['Offer'], color=cmap(i/n_colors), label = dealer)\n",
    "                ax2.scatter(temp_df['CumulativeSize'], temp_df['Offer'], color=cmap(i/n_colors), label = dealer)  # Plot the aggregate supply data on the right axes\n",
    "            if df['Filled'].sum() == 0:\n",
    "                ax1.set_title(\"No second stage Auction\")\n",
    "            else:\n",
    "                ax1.set_title(\"Individual Limit Orders\")\n",
    "                ax1.axhline(final_price, color='darkgrey', linestyle='--', label=\"Final Price\") # Plot a horizontal line at the final price\n",
    "            ax1.set_xlabel('Cumulative Size') # Set the x-axis label as 'Cumulative Size'\n",
    "            ax1.set_ylabel('Offer') # Set the y-axis label as 'Offer'\n",
    "            ax1.legend(loc = 'best', fontsize=7)  # Create a legend and set the location as 'best' and font size as 7\n",
    "            \n",
    "            ax2.set_title(\"Agrgregate Supply\")\n",
    "            ax2.plot(df['CumulativeSize'], df['Offer'], color = 'grey')  # Plot the aggregate supply data on the right axes\n",
    "            ax2.set_xlabel('Cumulative Size') # Set the x-axis label as 'Cumulative Size'\n",
    "            ax2.axhline(final_price, color='darkgrey', linestyle='--', label=\"Final Price\")\n",
    "            ax2.set_ylabel('Offer')  # Set the y-axis label as 'Offer'\n",
    "            ax2.legend(loc = 'best', fontsize=7) # Create a legend and set the location as 'best' and font size as 7\n",
    "           \n",
    "            # Saving the figure and displying it \n",
    "            plt.savefig(os.path.join(path_lo_fig, name + \"Offer.png\"), format='png') # The code is saving the figure in the path specified by the path_lo_fig variable and appending the name of the file with 'Offer.png' and format is set to png\n",
    "            plt.show()  # The code is showing the plot\n",
    "            plt.clf()   # The code is clearing the current figure to free up memory\n",
    "    # Handling exceptions        \n",
    "    except Exception as e:\n",
    "        print(f'An error occurred while processing {file} at iteration {i} : {e}')\n",
    "        with open('error_log.txt', 'a') as f:\n",
    "            f.write(f'An error occurred while processing {file} at iteration {i} : {e}\\n')\n",
    "    continue # Handling any exceptions that may occur during the processing of the file by printing an error message and writing the error message to an 'error_log.txt' file. The continue statement is used to skip the current iteration and proceed to the next iteration.\n",
    "\n",
    "print(unique_dealers)"
   ]
  },
  {
   "cell_type": "code",
   "execution_count": null,
   "metadata": {
    "collapsed": false,
    "pycharm": {
     "name": "#%%\n"
    }
   },
   "outputs": [],
   "source": [
    "from sqlalchemy import create_engine, Column, String, PrimaryKeyConstraint\n",
    "from sqlalchemy.orm import sessionmaker\n",
    "from sqlalchemy.ext.declarative import declarative_base\n",
    "\n",
    "# create an engine to connect to the database\n",
    "engine = create_engine('sqlite:///mydatabase.db')\n",
    "\n",
    "# create a session factory\n",
    "Session = sessionmaker(bind=engine)\n",
    "\n",
    "# create a base class for declarative models\n",
    "Base = declarative_base()\n",
    "\n",
    "# define the Dealer model\n",
    "class Dealer(Base):\n",
    "    __tablename__ = 'dealers'\n",
    "    name = Column(String, primary_key=True)\n",
    "\n",
    "# create the dealers table\n",
    "Base.metadata.create_all(engine)\n",
    "\n",
    "# start a session\n",
    "session = Session\n",
    "\n",
    "\n",
    "# Create a session factory\n",
    "Session = sessionmaker(bind=engine)\n",
    "\n",
    "# Create a new session\n",
    "session = Session()\n",
    "\n",
    "# Insert the unique dealer names into the table\n",
    "session.bulk_save_objects([Dealer(name=name) for name in unique_dealers])\n",
    "\n",
    "# Commit the changes\n",
    "session.commit()\n",
    "\n",
    "\n"
   ]
  },
  {
   "cell_type": "code",
   "execution_count": null,
   "metadata": {
    "collapsed": false,
    "pycharm": {
     "name": "#%%\n"
    }
   },
   "outputs": [],
   "source": [
    "from sqlalchemy import create_engine\n",
    "from sqlalchemy.orm import sessionmaker\n",
    "\n",
    "# Connect to the database\n",
    "engine = create_engine('sqlite:///mydatabase.db')\n",
    "\n",
    "# Create a session factory\n",
    "Session = sessionmaker(bind=engine)\n",
    "\n",
    "# Create a new session\n",
    "session = Session()\n",
    "\n",
    "# Query the data in the dealers table\n",
    "dealers = session.query(Dealer).all()\n",
    "\n",
    "# Print the name of each dealer\n",
    "for dealer in dealers:\n",
    "    print(dealer.name)\n"
   ]
  },
  {
   "cell_type": "code",
   "execution_count": null,
   "metadata": {
    "collapsed": false,
    "pycharm": {
     "name": "#%%\n"
    }
   },
   "outputs": [],
   "source": [
    "from sqlalchemy import and_\n",
    "\n",
    "# start a session\n",
    "session = Session()\n",
    "\n",
    "# query the dealers table to get all the rows where the name column contains the string 'Golman'\n",
    "dealers = session.query(Dealer).filter(Dealer.name.like('%Barclays%')).all()\n",
    "\n",
    "# loop through the results and print out the name of each dealer\n",
    "for dealer in dealers:\n",
    "    print(dealer.name)\n",
    "\n",
    "# close the session\n",
    "session.close()"
   ]
  },
  {
   "attachments": {},
   "cell_type": "markdown",
   "metadata": {
    "collapsed": false,
    "pycharm": {
     "name": "#%% md\n"
    }
   },
   "source": [
    "### Limit  orders when NOI to sell"
   ]
  },
  {
   "cell_type": "code",
   "execution_count": null,
   "metadata": {
    "collapsed": false,
    "pycharm": {
     "name": "#%%\n"
    }
   },
   "outputs": [],
   "source": [
    "## import necessary libraries\n",
    "\n",
    "import pandas as pd #  used for data manipulation and analysis.\n",
    "import matplotlib.pyplot as plt  # used for creating plots\n",
    "import matplotlib.colors as mcolors # used for creating a color map for the dots\n",
    "import os # used for interacting with the operating system, such as creating directories\n",
    "import glob # used for finding all the csv files in a directory\n",
    "import matplotlib.cm as cm\n",
    "import re # used for regular expressions\n",
    "\n",
    "## set up the directories\n",
    "\n",
    "path = os.getcwd() # gets the current working directory and assigns it to the variable path.\n",
    "path = os.path.join(path, \"Results\") #concatenates the path variable with the string \"Results\" and assigns it to the variable path.\n",
    "path_lo_fig =  os.path.join(path, \"Limit-Orders-Graphs\")\n",
    "#checks if the directory specified by path_lo_fig exists, and if it does not, it creates the directory using os.makedirs(path_lo_fig).\n",
    "if not os.path.exists(path_lo_fig):\n",
    "    os.makedirs(path_lo_fig)\n",
    "# find all the csv files in the directory specified by path whose names contain the string \"Limit Orders\". \n",
    "csv_files = glob.glob(os.path.join(path, \"*Limit Orders*.csv\"))\n",
    "\n",
    "## create colors for plots\n",
    "# Create a color map for the dots\n",
    "cmap = cm.get_cmap('hsv')\n",
    "# Set the number of colors you want\n",
    "n_colors = 15\n",
    "# sort the files by the first four characters of their filename\n",
    "csv_files.sort(key=lambda x: int(os.path.basename(x)[:4]))\n",
    "\n",
    "## Create Auction to Sell Plots: left side by dealer and right side aggregate\n",
    "for file in csv_files:\n",
    "    try:\n",
    "        if \"Bid\" in open(file).read():\n",
    "            print(file)\n",
    "            df = pd.read_csv(file)\n",
    "            df['Bid'] = df['Bid'].astype(str)\n",
    "            df['Bid'] = df['Bid'].replace(to_replace='#', value='', regex=True)\n",
    "            df['Dealer'] = df['Dealer'].str.replace('*','')\n",
    "            df.columns = df.columns.str.replace(r'\\*|\\*\\*', '')\n",
    "            df= df.dropna()\n",
    "            df = df.reset_index(drop=True)\n",
    "\n",
    "            df['Filled'] = 0\n",
    "            df.loc[df['Bid'].str.contains('\\^'), 'Filled'] = 1\n",
    "            df.loc[df['Bid'].str.contains('\\*') & (df['Filled'] == 0), 'Filled'] = 1\n",
    "            \n",
    "            df['Part_Filled'] = 0\n",
    "            df.loc[df['Bid'].str.contains('\\^'), 'Part_Filled'] = 1\n",
    "            \n",
    "            df['Bid'] = df['Bid'].replace(to_replace='\\^', value='', regex=True)\n",
    "            df = df.replace(regex=r'\\*|\\*\\*', value='')\n",
    "            df['Bid'] = pd.to_numeric(df['Bid'])\n",
    "            \n",
    "            df_agg = df.groupby(['Dealer', 'Bid', 'Filled'])['Size'].sum().reset_index()\n",
    "            df_agg = df_agg.sort_values(by='Bid', ascending=False)\n",
    "            df_agg['CumulativeSize'] = df_agg.groupby(['Dealer'])['Size'].cumsum()\n",
    "\n",
    "            final_price = df_agg[df_agg['Filled'] == 1]['Bid'].min()# Getting the final price of the auction by finding the msximum value in the 'Bid' column of the df_agg dataframe.\n",
    "            print(final_price)\n",
    "            dealers = df_agg.Dealer.unique() # Create a list of unique dealers\n",
    "            # Create a figure with 2 subplots, one for the dealer plots and one for the aggregate demand\n",
    "            fig, (ax1, ax2) = plt.subplots(1, 2, figsize=(12, 6))\n",
    "            filename = os.path.basename(file)\n",
    "            name, ext = os.path.splitext(filename)  # Split the file name into name and extension parts and assign them to the variables name and ext respectively\n",
    "            fig.suptitle(name) # Set the title of the figure as the name of the file\n",
    "            \n",
    "            # Compute Cumulative Size and NOI\n",
    "            df = df.sort_values(by='Bid', ascending=False) # Sort the dataframe by 'Offer' in ascending order\n",
    "            df['CumulativeSize'] = df['Size'].cumsum() # Add a new column 'CumulativeSize' to df_supply that is the cumulative sum of the 'Size' column\n",
    "            df = df.reset_index(drop=True)\n",
    "            #print(df)\n",
    "            if df['Part_Filled'].sum() == 0:\n",
    "                NOI= df[df['Bid'] == final_price]['CumulativeSize'].max()\n",
    "                ax2.axvline(x=NOI, color='orange', linestyle='--', label ='NOI')\n",
    "            else: \n",
    "                if df.loc[0,'Part_Filled'] == 1:\n",
    "                    NOI = df.loc[df['Part_Filled'] == 1, 'CumulativeSize'].max()\n",
    "                    ax2.axvline(x=NOI, color='orange', linestyle='--', label ='NOI')\n",
    "                else:\n",
    "                    max_NOI = df[df['Bid'] == final_price]['CumulativeSize'].max()\n",
    "                    min_NOI = df.loc[df[df['Part_Filled'] == 1].index[0]-1, 'CumulativeSize']\n",
    "                    NOI= \"Range of Values more than \" + str(min_NOI) + \" and less than \" + str(max_NOI)\n",
    "                    ax2.axvspan(min_NOI, max_NOI, color='orange', alpha=0.5, label = 'Range of possible NOI')\n",
    "            print(\"NOI is \" + str(NOI))\n",
    "\n",
    "            # Plot dealer's demand data on the left axes\n",
    "            for i, dealer in enumerate(dealers):\n",
    "                temp_df = df[df['Dealer'] == dealer] # Create a new dataframe called temp_df that contains only the rows from df_agg that have the current dealer\n",
    "                temp_df_agg = df_agg[df_agg['Dealer'] == dealer] # Create a new dataframe called temp_df that contains only the rows from df_agg that have the current dealer\n",
    "                temp_df_agg = temp_df_agg.sort_values(by='Bid') # Sort the dataframe by 'Offer' in ascending order\n",
    "                if len(temp_df_agg) < 2:  # If the number of rows in temp_df is less than 2, then it will plot the data as scatter plot\n",
    "                    ax1.scatter(temp_df_agg['CumulativeSize'], temp_df_agg['Bid'], color=cmap(i/n_colors), label = dealer)\n",
    "                else:  # If the number of rows in temp_df is more than 2, then it will plot the data as line plot\n",
    "                    ax1.plot(temp_df['CumulativeSize'], temp_df['Bid'],color=cmap(i/n_colors), label = dealer)\n",
    "                ax2.scatter(temp_df['CumulativeSize'], temp_df['Bid'], color=cmap(i/n_colors), label = dealer)  # Plot the aggregate supply data on the right axes    \n",
    "            if df['Filled'].sum() == 0:\n",
    "                ax1.set_title(\"No second stage Auction\")\n",
    "            else:\n",
    "                ax1.set_title(\"Individual Limit Orders\")\n",
    "                ax1.axhline(final_price, color='darkgrey', linestyle='--', label=\"Final Price\") # Plot a horizontal line at the final price\n",
    "            ax1.set_xlabel('Cumulative Size') # Set the x-axis label as 'Cumulative Size'\n",
    "            ax1.set_ylabel('Bid') # Set the y-axis label as 'Bid'\n",
    "            ax1.legend(loc = 'best', fontsize=7)  # Create a legend and set the location as 'best' and font size as 7\n",
    "\n",
    "            ax2.set_title(\"Agrgregate Demand\")\n",
    "            ax2.plot(df['CumulativeSize'], df['Bid'], color = 'grey')  # Plot the aggregate supply data on the right axes\n",
    "            ax2.set_xlabel('Cumulative Size') # Set the x-axis label as 'Cumulative Size'\n",
    "            ax2.axhline(final_price, color='darkgrey', linestyle='--', label=\"Final Price\")\n",
    "            ax2.set_ylabel('Bid')  # Set the y-axis label as 'Bid'\n",
    "            ax2.legend(loc = 'best', fontsize=7) # Create a legend and set the location as 'best' and font size as 7\n",
    "            # Saving the figure and displying it \n",
    "            plt.savefig(os.path.join(path_lo_fig, name + \"Bid.png\"), format='png') # The code is saving the figure in the path specified by the path_lo_fig variable and appending the name of the file with 'Bid.png' and format is set to png\n",
    "            plt.show()  # The code is showing the plot\n",
    "            plt.clf()   # The code is clearing the current figure to free up memory\n",
    "    # Handling exceptions        \n",
    "    except Exception as e:\n",
    "        print(f'An error occurred while processing {file} at iteration {i} : {e}')\n",
    "        with open('error_log.txt', 'a') as f:\n",
    "            f.write(f'An error occurred while processing {file} at iteration {i} : {e}\\n')\n",
    "    continue # Handling any exceptions that may occur during the processing of the file by printing an error message and writing the error message to an 'error_log.txt' file. The continue statement is used to skip the current iteration and proceed to the next iteration.\n"
   ]
  },
  {
   "attachments": {},
   "cell_type": "markdown",
   "metadata": {
    "collapsed": false,
    "pycharm": {
     "name": "#%% md\n"
    }
   },
   "source": [
    "### Experiments"
   ]
  },
  {
   "cell_type": "code",
   "execution_count": null,
   "metadata": {
    "collapsed": false,
    "pycharm": {
     "name": "#%%\n"
    }
   },
   "outputs": [],
   "source": [
    "## import necessary libraries\n",
    "\n",
    "import pandas as pd #  used for data manipulation and analysis.\n",
    "import matplotlib.pyplot as plt  # used for creating plots\n",
    "import matplotlib.colors as mcolors # used for creating a color map for the dots\n",
    "import os # used for interacting with the operating system, such as creating directories\n",
    "import glob # used for finding all the csv files in a directory\n",
    "import matplotlib.cm as cm\n",
    "import re # used for regular expressions\n",
    "\n",
    "## set up the directories\n",
    "\n",
    "path = os.getcwd() # gets the current working directory and assigns it to the variable path.\n",
    "print(path)\n",
    "path = os.path.join(path, \"Results\") #concatenates the path variable with the string \"Results\" and assigns it to the variable path.\n",
    "path_lo_fig =  os.path.join(path, \"Limit-Orders-Graphs\")\n",
    "#checks if the directory specified by path_lo_fig exists, and if it does not, it creates the directory using os.makedirs(path_lo_fig).\n",
    "if not os.path.exists(path_lo_fig):\n",
    "    os.makedirs(path_lo_fig)\n",
    "# find all the csv files in the directory specified by path whose names contain the string \"Limit Orders\". \n",
    "csv_files = glob.glob(os.path.join(path, \"*Limit Orders*.csv\"))\n",
    "\n",
    "## create colors for plots\n",
    "# Create a color map for the dots\n",
    "cmap = cm.get_cmap('hsv')\n",
    "# Set the number of colors you want\n",
    "n_colors = 15\n",
    "# sort the files by the first four characters of their filename\n",
    "csv_files.sort(key=lambda x: int(os.path.basename(x)[:4]))\n",
    "\n",
    "file = \"/home/ga/Dropbox/00/CDSAuction/Data-exploration/Results/2011 AIB 5 Limit Orders .csv\"\n",
    "\n",
    "if \"Offer\" in open(file).read(): # Open the file and check if the string \"Offer\" is present in the file's contents. If it is, the code continues to execute.\n",
    "    print(file)\n",
    "    df = pd.read_csv(file) # Read the csv file and assign it to a dataframe called df.\n",
    "    df['Offer'] = df['Offer'].astype(str)\n",
    "    df['Offer'] = df['Offer'].replace(to_replace='#', value='', regex=True) # Replacing the '#' character with nothing in the 'Offer' column.\n",
    "    df['Dealer'] = df['Dealer'].str.replace('*','') # Replacing the '*' character with nothing in the 'Dealer' column\n",
    "    df.columns = df.columns.str.replace(r'\\*|\\*\\*', '') # Replacing the '*' and '**' characters with nothing in the column names.\n",
    "    df= df.dropna()\n",
    "    df = df.reset_index(drop=True)\n",
    "    df['Filled'] = 0\n",
    "    df.loc[df['Offer'].str.contains('\\^'), 'Filled'] = 1\n",
    "    df.loc[df['Offer'].str.contains('\\*') & (df['Filled'] == 0), 'Filled'] = 1\n",
    "    df['Filled'] = df['Filled'].fillna(0) # Replacing any NaN values in the 'Filled' column with 0s\n",
    "    df['Part_Filled'] = 0\n",
    "    df.loc[df['Offer'].str.contains('\\^'), 'Part_Filled'] = 1\n",
    "    df['Part_Filled'] = df['Part_Filled'].fillna(0) # Replacing any NaN values in the 'Part_Filled' column with 0s\n",
    "    df['Offer'] = df['Offer'].replace(to_replace='\\^', value='', regex=True) # Replacing the '^' character with nothing in the 'Offer' column.\n",
    "    df = df.replace(regex=r'\\*|\\*\\*', value='') # Replacing the '*' and '**' characters with nothing in all columns of the dataframe.\n",
    "    df['Offer'] = pd.to_numeric(df['Offer']) # Convert the 'Offer' column in df to a numeric data type.\n",
    "    \n",
    "    df_agg = df.groupby(['Dealer', 'Offer', 'Filled'])['Size'].sum().reset_index() # Create a new dataframe called df_agg that groups by 'Dealer', 'Offer', and 'Filled' columns and sums the 'Size' column.\n",
    "    df_agg['CumulativeSize'] = df_agg.groupby(['Dealer'])['Size'].cumsum() # Add a new column 'CumulativeSize' to df_agg that is the cumulative sum of the 'Size' column grouped by 'Dealer\n",
    "    final_price = df_agg[df_agg['Filled'] == 1]['Offer'].max() # Getting the final price of the auction by finding the minimum value in the 'Offer' column of the df_agg dataframe.\n",
    "    print(\"Final price is \" + str(final_price))\n",
    "    dealers = df_agg.Dealer.unique() # Create a list of unique dealers\n",
    "    # Create a figure with 2 subplots, one for the dealer plots and one for the aggregate supply\n",
    "    fig, (ax1, ax2) = plt.subplots(1, 2, figsize=(12, 6))\n",
    "    filename = os.path.basename(file)\n",
    "    name, ext = os.path.splitext(filename)  # Split the file name into name and extension parts and assign them to the variables name and ext respectively\n",
    "    fig.suptitle(name) # Set the title of the figure as the name of the fil\n",
    "    # Compute Cumulative Size and NOI\n",
    "    df = df.sort_values(by='Offer', ascending=True) # Sort the dataframe by 'Offer' in ascending order\n",
    "    df['CumulativeSize'] = df['Size'].cumsum() # Add a new column 'CumulativeSize' to df_supply that is the cumulative sum of the 'Size' column\n",
    "    df = df.reset_index(drop=True)\n",
    "    #print(df)\n",
    "    if df['Part_Filled'].sum() == 0:\n",
    "        NOI= df[df['Offer'] == final_price]['CumulativeSize'].max()\n",
    "        ax2.axvline(x=NOI, color='orange', linestyle='--', label ='NOI')\n",
    "    else: \n",
    "        if df.loc[0,'Part_Filled'] == 1:\n",
    "            NOI = df.loc[df['Part_Filled'] == 1, 'CumulativeSize'].max()\n",
    "            ax2.axvline(x=NOI, color='orange', linestyle='--', label ='NOI')\n",
    "        else:\n",
    "            max_NOI = df[df['Offer'] == final_price]['CumulativeSize'].max()\n",
    "            min_NOI = df.loc[df[df['Part_Filled'] == 1].index[0]-1, 'CumulativeSize']\n",
    "            NOI= \"Range of Values more than \" + str(min_NOI) + \" and less than \" + str(max_NOI)\n",
    "            ax2.axvspan(min_NOI, max_NOI, color='orange', alpha=0.5, label = 'Range of possible NOI')\n",
    "    print(\"NOI is \" + str(NOI))\n",
    "    # Plot dealer's supply data on the left axes\n",
    "    for i, dealer in enumerate(dealers):\n",
    "        temp_df = df[df['Dealer'] == dealer] # Create a new dataframe called temp_df that contains only the rows from df_agg that have the current dealer\n",
    "        temp_df_agg = df_agg[df_agg['Dealer'] == dealer] # Create a new dataframe called temp_df that contains only the rows from df_agg that have the current dealer\n",
    "        temp_df_agg = temp_df_agg.sort_values(by='Offer') # Sort the dataframe by 'Offer' in ascending order\n",
    "        if len(temp_df_agg) < 2:  # If the number of rows in temp_df is less than 2, then it will plot the data as scatter plot\n",
    "                ax1.scatter(temp_df_agg['CumulativeSize'], temp_df_agg['Offer'], color=cmap(i/n_colors), label = dealer)\n",
    "        else:  # If the number of rows in temp_df is more than 2, then it will plot the data as line plot\n",
    "            ax1.plot(temp_df_agg['CumulativeSize'], temp_df_agg['Offer'], color=cmap(i/n_colors), label = dealer)\n",
    "        ax2.scatter(temp_df['CumulativeSize'], temp_df['Offer'], color=cmap(i/n_colors), label = dealer)  # Plot the aggregate supply data on the right axes\n",
    "    if df['Filled'].sum() == 0:\n",
    "        ax1.set_title(\"No second stage Auction\")\n",
    "    else:\n",
    "        ax1.set_title(\"Individual Limit Orders\")\n",
    "        ax1.axhline(final_price, color='darkgrey', linestyle='--', label=\"Final Price\") # Plot a horizontal line at the final price\n",
    "    ax1.set_xlabel('Cumulative Size') # Set the x-axis label as 'Cumulative Size'\n",
    "    ax1.set_ylabel('Offer') # Set the y-axis label as 'Offer'\n",
    "    ax1.legend(loc = 'best', fontsize=7)  # Create a legend and set the location as 'best' and font size as 7\n",
    "    \n",
    "    ax2.set_title(\"Agrgregate Supply\")\n",
    "    ax2.plot(df['CumulativeSize'], df['Offer'], color = 'grey')  # Plot the aggregate supply data on the right axes\n",
    "    ax2.set_xlabel('Cumulative Size') # Set the x-axis label as 'Cumulative Size'\n",
    "    ax2.axhline(final_price, color='darkgrey', linestyle='--', label=\"Final Price\")\n",
    "    ax2.set_ylabel('Offer')  # Set the y-axis label as 'Offer'\n",
    "    ax2.legend(loc = 'best', fontsize=7) # Create a legend and set the location as 'best' and font size as 7\n",
    "   \n",
    "    # Saving the figure and displying it \n",
    "    plt.savefig(os.path.join(path_lo_fig, name + \"Offer.png\"), format='png') # The code is saving the figure in the path specified by the path_lo_fig variable and appending the name of the file with 'Offer.png' and format is set to png\n",
    "    plt.show()  # The code is showing the plot\n",
    "    plt.clf()   # The code is clearing the current figure to free up memory"
   ]
  }
 ],
 "metadata": {
  "kernelspec": {
   "display_name": "base",
   "language": "python",
   "name": "python3"
  },
  "language_info": {
   "codemirror_mode": {
    "name": "ipython",
    "version": 3
   },
   "file_extension": ".py",
   "mimetype": "text/x-python",
   "name": "python",
   "nbconvert_exporter": "python",
   "pygments_lexer": "ipython3",
   "version": "3.8.5"
  },
  "orig_nbformat": 4,
  "vscode": {
   "interpreter": {
    "hash": "5542afc9645e829686dd49431b87fb87d8247b98aee894d9a9effffe0045c8ca"
   }
  }
 },
 "nbformat": 4,
 "nbformat_minor": 2
}
